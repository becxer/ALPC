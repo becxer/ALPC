{
 "cells": [
  {
   "cell_type": "code",
   "execution_count": 1,
   "metadata": {
    "collapsed": true
   },
   "outputs": [],
   "source": [
    "import numpy as np\n",
    "import tensorflow as tf\n",
    "import matplotlib.pyplot as plt\n",
    "%matplotlib inline"
   ]
  },
  {
   "cell_type": "code",
   "execution_count": 4,
   "metadata": {
    "collapsed": false
   },
   "outputs": [
    {
     "name": "stdout",
     "output_type": "stream",
     "text": [
      "Extracting images/MNIST/train-images-idx3-ubyte.gz\n",
      "Extracting images/MNIST/train-labels-idx1-ubyte.gz\n",
      "Extracting images/MNIST/t10k-images-idx3-ubyte.gz\n",
      "Extracting images/MNIST/t10k-labels-idx1-ubyte.gz\n"
     ]
    },
    {
     "data": {
      "text/plain": [
       "(55000, 784)"
      ]
     },
     "execution_count": 4,
     "metadata": {},
     "output_type": "execute_result"
    }
   ],
   "source": [
    "# Get MNIST data set from tensorflow\n",
    "from tensorflow.examples.tutorials.mnist import input_data\n",
    "mnist_set = input_data.read_data_sets('images/MNIST/', one_hot = True)\n",
    "\n",
    "train_img = mnist_set.train.images\n",
    "train_label = mnist_set.train.labels\n",
    "test_img = mnist_set.test.images\n",
    "test_label = mnist_set.test.labels\n",
    "\n",
    "train_img.shape"
   ]
  },
  {
   "cell_type": "code",
   "execution_count": 3,
   "metadata": {
    "collapsed": true
   },
   "outputs": [],
   "source": [
    "learning_rate = 0.01\n",
    "training_epochs = 50\n",
    "batch_size = 100\n",
    "display_step = 10\n",
    "\n",
    "n_hidden = [400,100,30]\n",
    "w_dev = 0.1 ###standard deviation"
   ]
  },
  {
   "cell_type": "code",
   "execution_count": 6,
   "metadata": {
    "collapsed": false
   },
   "outputs": [
    {
     "name": "stdout",
     "output_type": "stream",
     "text": [
      "400\n",
      "Tensor(\"random_normal_11:0\", shape=(400,), dtype=float32)\n",
      "100\n",
      "Tensor(\"random_normal_14:0\", shape=(100,), dtype=float32)\n",
      "30\n",
      "Tensor(\"random_normal_17:0\", shape=(30,), dtype=float32)\n"
     ]
    }
   ],
   "source": [
    "# Define placeholder & Variables\n",
    "x = tf.placeholder('float', [None, train_img.shape[1]])\n",
    "y = tf.placeholder('float', [None, train_label.shape[1]])\n",
    "\n",
    "def one_layer(_x, _W, _b):\n",
    "    return tf.nn.sigmoid(tf.add(tf.matmul(_x, _W), _b))\n",
    "\n",
    "WS = {}\n",
    "BS = {} #?\n",
    "\n",
    "last_input_layer = x\n",
    "last_input_layer_size = train_img.shape[1]\n",
    "for idx, hl_size in enumerate(n_hidden):\n",
    "    _W = tf.Variable(tf.random_normal([last_input_layer_size, hl_size], stddev=w_dev))\n",
    "    _b = tf.Variable(tf.random_normal([hl_size]))\n",
    "#     print hl_size\n",
    "#     print tf.random_normal([hl_size])\n",
    "    last_input_layer = one_layer(last_input_layer, _W, _b)\n",
    "    last_input_layer_size = hl_size\n",
    "    WS['h_'+str(idx)] = _W\n",
    "    BS['h_'+str(idx)] = _b\n",
    "    \n",
    "WS['out'] = tf.Variable(tf.random_normal([last_input_layer_size, train_label.shape[1]], stddev=w_dev))\n",
    "BS['out'] = tf.Variable(tf.random_normal([train_label.shape[1]], stddev=w_dev))\n",
    "\n",
    "\n",
    "\n",
    "# Define operators\n",
    "out = one_layer(last_input_layer, WS['out'], BS['out'])\n",
    "\n",
    "cost = tf.reduce_mean"
   ]
  },
  {
   "cell_type": "code",
   "execution_count": 8,
   "metadata": {
    "collapsed": true
   },
   "outputs": [],
   "source": [
    "tf.nn.softmax_cross_entropy_with_logits?"
   ]
  }
 ],
 "metadata": {
  "kernelspec": {
   "display_name": "Python 2",
   "language": "python",
   "name": "python2"
  },
  "language_info": {
   "codemirror_mode": {
    "name": "ipython",
    "version": 2
   },
   "file_extension": ".py",
   "mimetype": "text/x-python",
   "name": "python",
   "nbconvert_exporter": "python",
   "pygments_lexer": "ipython2",
   "version": "2.7.11+"
  }
 },
 "nbformat": 4,
 "nbformat_minor": 0
}
