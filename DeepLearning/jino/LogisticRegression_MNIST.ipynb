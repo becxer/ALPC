{
 "cells": [
  {
   "cell_type": "code",
   "execution_count": 2,
   "metadata": {
    "collapsed": false
   },
   "outputs": [
    {
     "name": "stdout",
     "output_type": "stream",
     "text": [
      "packages are loaded\n"
     ]
    }
   ],
   "source": [
    "import numpy as np\n",
    "import tensorflow as tf\n",
    "import matplotlib.pyplot as plt\n",
    "%matplotlib inline  \n",
    "\n",
    "print (\"packages are loaded\")"
   ]
  },
  {
   "cell_type": "code",
   "execution_count": 4,
   "metadata": {
    "collapsed": false
   },
   "outputs": [
    {
     "name": "stdout",
     "output_type": "stream",
     "text": [
      "Extracting images/MNIST/train-images-idx3-ubyte.gz\n",
      "Extracting images/MNIST/train-labels-idx1-ubyte.gz\n",
      "Extracting images/MNIST/t10k-images-idx3-ubyte.gz\n",
      "Extracting images/MNIST/t10k-labels-idx1-ubyte.gz\n"
     ]
    }
   ],
   "source": [
    "# Get MNIST data set from tensorflow\n",
    "from tensorflow.examples.tutorials.mnist import input_data\n",
    "mnist_set = input_data.read_data_sets('images/MNIST/', one_hot = True)\n",
    "\n",
    "train_img = mnist_set.train.images\n",
    "train_label = mnist_set.train.labels\n",
    "test_img = mnist_set.test.images\n",
    "test_label = mnist_set.test.labels"
   ]
  },
  {
   "cell_type": "code",
   "execution_count": 8,
   "metadata": {
    "collapsed": true
   },
   "outputs": [],
   "source": [
    "# Options for training\n",
    "learning_rate = 0.01  # 엔트로피를 최소화하기 위해 옮기는 비율 \n",
    "training_epochs = 100  # 전체 트레이닝 횟수(가중치 업데이트 횟수)\n",
    "batch_size = 100  # 55000개의 데이터를 한 번에 하는 것이 가장 완벽하나\n",
    "                  # 한 번 올라갈 때마다 55000개를 평균내서 메모리에 올려야 하기 때문에 성능이 낮아짐\n",
    "                  # 따라서 100개 중 하나를 탐색해서 올라감 (그런데 모든 데이터와 100개 탐색의 성능은 같음)\n",
    "display_step = 10 \n",
    "\n",
    "# Options for Hidden Network Nodes\n",
    "n_hidden = [128, 64]\n",
    "w_dev = 0.1"
   ]
  },
  {
   "cell_type": "code",
   "execution_count": 9,
   "metadata": {
    "collapsed": false
   },
   "outputs": [
    {
     "name": "stdout",
     "output_type": "stream",
     "text": [
      "Graph build\n"
     ]
    }
   ],
   "source": [
    "# Build Graph of Logistic Regression\n",
    "\n",
    "# Define placeholder & Variables\n",
    "x = tf.placeholder(\"float\", [None, train_img.shape[1]]) # input, \n",
    "y = tf.placeholder(\"float\", [None, train_label.shape[1]]) # output\n",
    "\n",
    "W = tf.Variable(tf.zeros([train_img.shape[1], train_label.shape[1]]))\n",
    "b = tf.Variable(tf.zeros([train_label.shape[1]]))\n",
    "\n",
    "# Define operators\n",
    "out = tf.add( tf.matmul(x,W), b)\n",
    "\n",
    "cost = tf.reduce_mean(tf.reduce_sum(tf.pow(out-y,2), reduction_indices=1))\n",
    "optm = tf.train.GradientDescentOptimizer(learning_rate).minimize(cost)\n",
    "\n",
    "pred = tf.argmax(out, 1)\n",
    "accr = tf.reduce_mean(tf.cast(tf.equal(pred, tf.argmax(y,1)), \"float\"))\n",
    "\n",
    "init = tf.initialize_all_variables()\n",
    "print (\"Graph build\")"
   ]
  }
 ],
 "metadata": {
  "kernelspec": {
   "display_name": "Python 2",
   "language": "python",
   "name": "python2"
  },
  "language_info": {
   "codemirror_mode": {
    "name": "ipython",
    "version": 2
   },
   "file_extension": ".py",
   "mimetype": "text/x-python",
   "name": "python",
   "nbconvert_exporter": "python",
   "pygments_lexer": "ipython2",
   "version": "2.7.11+"
  }
 },
 "nbformat": 4,
 "nbformat_minor": 0
}
