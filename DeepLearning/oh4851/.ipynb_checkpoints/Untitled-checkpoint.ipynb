{
 "cells": [
  {
   "cell_type": "code",
   "execution_count": 1,
   "metadata": {
    "collapsed": false
   },
   "outputs": [
    {
     "name": "stdout",
     "output_type": "stream",
     "text": [
      "tensorflow load complete\n"
     ]
    }
   ],
   "source": [
    "import numpy as np\n",
    "import matplotlib.pyplot as pit\n",
    "import scipy\n",
    "import tensorflow as tf\n",
    "print \"tensorflow load complete\""
   ]
  },
  {
   "cell_type": "code",
   "execution_count": 5,
   "metadata": {
    "collapsed": false
   },
   "outputs": [
    {
     "name": "stdout",
     "output_type": "stream",
     "text": [
      "Extracting data/train-images-idx3-ubyte.gz\n",
      "Extracting data/train-labels-idx1-ubyte.gz\n",
      "Extracting data/t10k-images-idx3-ubyte.gz\n",
      "Extracting data/t10k-labels-idx1-ubyte.gz\n"
     ]
    }
   ],
   "source": [
    "from tensorflow.examples.tutorials.mnist import input_data\n",
    "\n",
    "# one_hot_coding -> 한개만... 뜨거운 것 -> 1인 비트가 하나만\n",
    "mnist = input_data.read_data_sets('data/', one_hot=True)\n",
    "trainimg = mnist.train.images\n",
    "trainlabel = mnist.train.labels\n",
    "testimg = mnist.test.images\n",
    "testlabel = mnist.test.labels"
   ]
  },
  {
   "cell_type": "code",
   "execution_count": null,
   "metadata": {
    "collapsed": true
   },
   "outputs": [],
   "source": [
    "learning_rate = 0.01\n",
    "training_epochs = 50\n",
    "batch_size = 100\n",
    "display_step = 1"
   ]
  },
  {
   "cell_type": "code",
   "execution_count": null,
   "metadata": {
    "collapsed": true
   },
   "outputs": [],
   "source": [
    "x = tf.placeholder(\"float\", [None, 784]) # input, immutable\n",
    "y = tf.placeholder(\"float\", [None, 10]) # output, immutable\n",
    "\n",
    "w = tf.Variable # mutable(?)\n",
    "\n",
    "actv = tf.nn.softmax # 0 ~ 1 값으로 바뀜, (sigmoid같은 것), 우리가 원하는 답\n",
    "cost = tf.\n",
    "\n",
    "# y * tf.log.... <-- Entropy, 낮을수록 좋은 것\n",
    "# Error, 예전에 (y - y`)^2 보다 성능은 Entropy를 이용하는게 좋음\n",
    "\n",
    "# 우리의 목표: cost 줄이는 것\n",
    "optm = \n",
    "pred = # argmax(y, 1) => y에서 1에 가장가까운? 애의 인덱스\n",
    "accr = # 정확도\n",
    "\n",
    "init = # Variables(변하는값)을 초기화"
   ]
  },
  {
   "cell_type": "code",
   "execution_count": null,
   "metadata": {
    "collapsed": true
   },
   "outputs": [],
   "source": [
    "# init을 해도 아직, 그래프가 생성된게 아님\n",
    "\n",
    "sess.run(init) # 앞서 정의한(?)\n",
    "\n",
    "\n",
    "\n",
    "\n",
    "\n",
    "batch_xs # 이미지 데이터\n",
    "batch_ys # 이미지에서 원하는 결과\n",
    "\n",
    "sess.run(optm, feed_dict) # 먹이(?)를 줘서 optimize함\n"
   ]
  }
 ],
 "metadata": {
  "kernelspec": {
   "display_name": "Python 2",
   "language": "python",
   "name": "python2"
  },
  "language_info": {
   "codemirror_mode": {
    "name": "ipython",
    "version": 2
   },
   "file_extension": ".py",
   "mimetype": "text/x-python",
   "name": "python",
   "nbconvert_exporter": "python",
   "pygments_lexer": "ipython2",
   "version": "2.7.11+"
  }
 },
 "nbformat": 4,
 "nbformat_minor": 0
}
