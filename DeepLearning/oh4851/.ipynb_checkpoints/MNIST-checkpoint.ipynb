{
 "cells": [
  {
   "cell_type": "code",
   "execution_count": 2,
   "metadata": {
    "collapsed": false
   },
   "outputs": [
    {
     "name": "stdout",
     "output_type": "stream",
     "text": [
      "package are loaded\n"
     ]
    }
   ],
   "source": [
    "import numpy as np\n",
    "import tensorflow as tf\n",
    "import matplotlib.pyplot as plt\n",
    "%matplotlib inline\n",
    "\n",
    "print (\"package are loaded\")"
   ]
  },
  {
   "cell_type": "code",
   "execution_count": 5,
   "metadata": {
    "collapsed": false
   },
   "outputs": [
    {
     "name": "stdout",
     "output_type": "stream",
     "text": [
      "Extracting images/MNIST/train-images-idx3-ubyte.gz\n",
      "Extracting images/MNIST/train-labels-idx1-ubyte.gz\n",
      "Extracting images/MNIST/t10k-images-idx3-ubyte.gz\n",
      "Extracting images/MNIST/t10k-labels-idx1-ubyte.gz\n"
     ]
    }
   ],
   "source": [
    "from tensorflow.examples.tutorials.mnist import input_data\n",
    "mnist_set = input_data.read_data_sets('images/MNIST/', one_hot = True)\n",
    "# one_hot코딩 vs 비트 표현\n",
    "# 비트표현할 경우, 1, 9가 1, 2보다 비슷하다고 생각\n",
    "# 1 0 0 1 - 0 0 0 1\n",
    "# 그리고 one_hot의 각 요소의 합 => 1 = 확률적으로 표현 가능\n",
    "# 만약, 0 ~ 9 숫자 구분: 0.1, 0.2, .0.69, 0.01, 0, 0,...\n",
    "# 인경우 2일확률이 69%"
   ]
  },
  {
   "cell_type": "code",
   "execution_count": 7,
   "metadata": {
    "collapsed": false,
    "scrolled": true
   },
   "outputs": [
    {
     "name": "stdout",
     "output_type": "stream",
     "text": [
      "type(mnist_set) : <class 'tensorflow.contrib.learn.python.learn.datasets.base.Datasets'>\n",
      "len(mnist_set.train) : 55000\n",
      "len(mnist_set.test) : 10000\n"
     ]
    }
   ],
   "source": [
    "print (\"type(mnist_set) : %s\" % (type(mnist_set)))\n",
    "print (\"len(mnist_set.train) : %s\" % (mnist_set.train.num_examples))\n",
    "print (\"len(mnist_set.test) : %s\" % (mnist_set.test.num_examples))"
   ]
  },
  {
   "cell_type": "code",
   "execution_count": null,
   "metadata": {
    "collapsed": true
   },
   "outputs": [],
   "source": []
  }
 ],
 "metadata": {
  "kernelspec": {
   "display_name": "Python 2",
   "language": "python",
   "name": "python2"
  },
  "language_info": {
   "codemirror_mode": {
    "name": "ipython",
    "version": 2
   },
   "file_extension": ".py",
   "mimetype": "text/x-python",
   "name": "python",
   "nbconvert_exporter": "python",
   "pygments_lexer": "ipython2",
   "version": "2.7.11+"
  }
 },
 "nbformat": 4,
 "nbformat_minor": 0
}
