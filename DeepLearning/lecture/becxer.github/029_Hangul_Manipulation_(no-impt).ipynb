{
 "cells": [
  {
   "cell_type": "code",
   "execution_count": 18,
   "metadata": {
    "collapsed": false
   },
   "outputs": [
    {
     "name": "stdout",
     "output_type": "stream",
     "text": [
      "Load packs\n"
     ]
    }
   ],
   "source": [
    "# -*- coding: utf-8 -*-\n",
    "import chardet # https://github.com/chardet/chardet\n",
    "import glob\n",
    "import codecs\n",
    "import sys\n",
    "import os\n",
    "from TextLoader import *\n",
    "from Hangulpy import *\n",
    "print (\"Load packs\")"
   ]
  },
  {
   "cell_type": "code",
   "execution_count": 4,
   "metadata": {
    "collapsed": true
   },
   "outputs": [],
   "source": [
    "\n",
    "def conv_file(fromfile, tofile):\n",
    "    with open(fromfile, \"rb\") as f:\n",
    "        sample_text=f.read(10240)\n",
    "    pred = chardet.detect(sample_text)\n",
    "    if not pred['encoding'] in ('EUC-KR', 'UTF-8', 'CP949', 'UTF-16LE'):\n",
    "        print (\"WARNING! Unknown encoding! : %s = %s\") % (fromfile, pred['encoding'])\n",
    "        pred['encoding'] = \"CP949\" # 못찾으면 기본이 CP949\n",
    "        formfile = fromfile + \".unknown\"\n",
    "    elif pred['confidence'] < 0.9:\n",
    "        print (\"WARNING! Unsured encofing! : %s = %s / %s\")\n",
    "        % (fromfile, pred['confidence'], pred['encoding'])\n",
    "        formfile = fromfile + \".notsure\"\n",
    "    with codecs.open(fromfile, \"r\", encoding=pred['encoding'], errors=\"ignore\") as f:\n",
    "        with codecs.open(tofile, \"w+\", encoding=\"utf8\") as t:\n",
    "            all_text = f.read()\n",
    "            t.write(all_text)"
   ]
  },
  {
   "cell_type": "code",
   "execution_count": 6,
   "metadata": {
    "collapsed": false
   },
   "outputs": [
    {
     "name": "stdout",
     "output_type": "stream",
     "text": [
      "WARNING! Unknown encoding! : texts/transparent_drake.txt = utf-8\n",
      "UTF8 Convert done\n"
     ]
    }
   ],
   "source": [
    "fromfile = \"texts/transparent_drake.txt\"\n",
    "tofile = \"texts/transparent_drake_utf8.txt\"\n",
    "conv_file(fromfile, tofile)\n",
    "print (\"UTF8 Convert done\")"
   ]
  },
  {
   "cell_type": "code",
   "execution_count": 8,
   "metadata": {
    "collapsed": false
   },
   "outputs": [],
   "source": [
    "def dump_file(filename):\n",
    "    result=u\"\"\n",
    "    with codecs.open(filename,\"r\", encoding=\"UTF8\") as f:\n",
    "        for line in f.readlines():\n",
    "            line = tuple(line)\n",
    "            result = result + decompose_text(line)\n",
    "    return result"
   ]
  },
  {
   "cell_type": "code",
   "execution_count": 9,
   "metadata": {
    "collapsed": false
   },
   "outputs": [
    {
     "name": "stdout",
     "output_type": "stream",
     "text": [
      "Parsing texts/transparent_drake_utf8.txt done\n",
      "1 (2002/07/25)ㅂㅡㄽᴥㄲㅛㄾᴥㅂㅡㄽᴥ\n",
      "ㅆㅝㅇᴥㅇㅖㄻᴥㅉㅒㄷᴥㅁㅒㅅᴥ�\n"
     ]
    }
   ],
   "source": [
    "if sys.version_info.major == 2:\n",
    "    parsed_txt = dump_file(tofile).encode(\"utf8\") \n",
    "else:\n",
    "    parsed_txt = dump_file(tofile) \n",
    "print (\"Parsing %s done\" % (tofile))\n",
    "print (parsed_txt[:100])"
   ]
  },
  {
   "cell_type": "code",
   "execution_count": 12,
   "metadata": {
    "collapsed": false
   },
   "outputs": [
    {
     "name": "stdout",
     "output_type": "stream",
     "text": [
      "Saved to a txt file\n"
     ]
    }
   ],
   "source": [
    "with open(\"texts/input.txt\", \"w\") as text_file:\n",
    "    text_file.write(parsed_txt)\n",
    "print (\"Saved to a txt file\")"
   ]
  },
  {
   "cell_type": "code",
   "execution_count": 13,
   "metadata": {
    "collapsed": false
   },
   "outputs": [
    {
     "name": "stdout",
     "output_type": "stream",
     "text": [
      "오늘 ㅏㅇ사ㅣ ㅇㅕ나ㅕㅇㅛㄱㅇㄹㅆ닿ㄹㄴ시ㅏ항곤ㅛ젆 샘ㄶㅡ니.젆ㅓ앉ㅏ뤝ㅡㄴ짉 읐?ㄴ히ㅇ\n"
     ]
    }
   ],
   "source": [
    "\n",
    "data=[u'\\u3147', u'\\u3157', u'\\u1d25', u'\\u3134', u'\\u3161', u'\\u3139', u'\\u1d25'\n",
    "      , u' ', u'\\u314f', u'\\u3147', u'\\u3145', u'\\u314f', u'\\u1d25', u'\\u1d25'\n",
    "      , u'\\u3163', u'\\u1d25', u' ', u'\\u3147', u'\\u1d25', u'\\u3155', u'\\u1d25'\n",
    "      , u'\\u3134', u'\\u314f', u'\\u1d25', u'\\u3155', u'\\u3147', u'\\u1d25'\n",
    "      , u'\\u315b', u'\\u3131', u'\\u1d25', u'\\u3147', u'\\u3139', u'\\u3146'\n",
    "      , u'\\u1d25', u'\\u3137', u'\\u314f', u'\\u314e', u'\\u3139', u'\\u1d25'\n",
    "      , u'\\u3134', u'\\u1d25', u'\\u3145', u'\\u3163', u'\\u1d25', u'\\u1d25'\n",
    "      , u'\\u314f', u'\\u1d25', u'\\u314e', u'\\u314f', u'\\u3147', u'\\u3131'\n",
    "      , u'\\u3157', u'\\u3134', u'\\u1d25', u'\\u1d25', u'\\u315b', u'\\u1d25'\n",
    "      , u'\\u3148', u'\\u3153', u'\\u3136', u'\\u1d25', u' ', u'\\u3145', u'\\u3150'\n",
    "      , u'\\u3141', u'\\u3136', u'\\u3161', u'\\u3134', u'\\u3163', u'\\u1d25', u'.'\n",
    "      , u'\\u3148', u'\\u3153', u'\\u3134', u'\\u314e', u'\\u3153', u'\\u1d25', u'\\u1d25'\n",
    "      , u'\\u3147', u'\\u314f', u'\\u3134', u'\\u3148', u'\\u314f', u'\\u3139', u'\\u315d'\n",
    "      , u'\\u314c', u'\\u1d25', u'\\u3161', u'\\u3134', u'\\u3148', u'\\u3163', u'\\u313a'\n",
    "      , u'\\u1d25', u' ', u'\\u3147', u'\\u3161', u'\\u3146', u'\\u1d25', u'?', u'\\u3134'\n",
    "      , u'\\u1d25', u'\\u314e', u'\\u3163', u'\\u1d25', u'\\u3147', u'\\u3148', u'\\u314f'\n",
    "      ]\n",
    "print automata(\"\".join(data))"
   ]
  },
  {
   "cell_type": "code",
   "execution_count": 19,
   "metadata": {
    "collapsed": false
   },
   "outputs": [
    {
     "ename": "NameError",
     "evalue": "name 'TextLoader' is not defined",
     "output_type": "error",
     "traceback": [
      "\u001b[1;31m---------------------------------------------------------------------------\u001b[0m",
      "\u001b[1;31mNameError\u001b[0m                                 Traceback (most recent call last)",
      "\u001b[1;32m<ipython-input-19-45fbe6201a59>\u001b[0m in \u001b[0;36m<module>\u001b[1;34m()\u001b[0m\n\u001b[0;32m      2\u001b[0m \u001b[0mbatch_size\u001b[0m  \u001b[1;33m=\u001b[0m \u001b[1;36m50\u001b[0m\u001b[1;33m\u001b[0m\u001b[0m\n\u001b[0;32m      3\u001b[0m \u001b[0mseq_length\u001b[0m  \u001b[1;33m=\u001b[0m \u001b[1;36m50\u001b[0m\u001b[1;33m\u001b[0m\u001b[0m\n\u001b[1;32m----> 4\u001b[1;33m \u001b[0mdata_loader\u001b[0m \u001b[1;33m=\u001b[0m \u001b[0mTextLoader\u001b[0m\u001b[1;33m(\u001b[0m\u001b[0mdata_dir\u001b[0m\u001b[1;33m,\u001b[0m \u001b[0mbatch_size\u001b[0m\u001b[1;33m,\u001b[0m \u001b[0mseq_length\u001b[0m\u001b[1;33m)\u001b[0m\u001b[1;33m\u001b[0m\u001b[0m\n\u001b[0m",
      "\u001b[1;31mNameError\u001b[0m: name 'TextLoader' is not defined"
     ]
    }
   ],
   "source": [
    "data_dir    = \"texts\"\n",
    "batch_size  = 50\n",
    "seq_length  = 50\n",
    "data_loader = TextLoader(data_dir, batch_size, seq_length)"
   ]
  }
 ],
 "metadata": {
  "kernelspec": {
   "display_name": "Python 2",
   "language": "python",
   "name": "python2"
  },
  "language_info": {
   "codemirror_mode": {
    "name": "ipython",
    "version": 2
   },
   "file_extension": ".py",
   "mimetype": "text/x-python",
   "name": "python",
   "nbconvert_exporter": "python",
   "pygments_lexer": "ipython2",
   "version": "2.7.11+"
  }
 },
 "nbformat": 4,
 "nbformat_minor": 0
}
